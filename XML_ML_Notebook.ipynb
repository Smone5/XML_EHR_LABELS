{
 "cells": [
  {
   "cell_type": "markdown",
   "metadata": {},
   "source": [
    "# Extreme Multi-Label Machine Model"
   ]
  },
  {
   "cell_type": "markdown",
   "metadata": {},
   "source": [
    "### Baseline Machine Gaussian Naive Bayes Learning Model"
   ]
  },
  {
   "cell_type": "code",
   "execution_count": null,
   "metadata": {},
   "outputs": [],
   "source": [
    "import hickle as hkl\n",
    "X_train = hkl.load( 'X_train.hkl' )\n",
    "X_test = hkl.load( 'X_test.hkl' )\n",
    "y_test = hkl.load( 'y_test.hkl' )\n",
    "y_train = hkl.load( 'y_train.hkl' )"
   ]
  },
  {
   "cell_type": "code",
   "execution_count": null,
   "metadata": {},
   "outputs": [],
   "source": [
    "from sklearn.preprocessing import StandardScaler\n",
    "sc = StandardScaler()\n",
    "X_train = sc.fit_transform(X_train)\n",
    "X_test = sc.transform(X_test)"
   ]
  },
  {
   "cell_type": "code",
   "execution_count": null,
   "metadata": {},
   "outputs": [],
   "source": [
    "from sklearn.naive_bayes import GaussianNB\n",
    "\n",
    "classif_list = []\n",
    "train_score_list, test_score_list = [], []\n",
    "\n",
    "# Training\n",
    "print(\"Training\")\n",
    "for i in range(len(labels_list)):\n",
    "    y_train_for_this_ub04 = y_train[:,i]\n",
    "    new_classifier = GaussianNB()\n",
    "    new_classifier.fit(X_train, y_train_for_this_ub04)\n",
    "    classif_list.append(new_classifier)\n",
    "\n",
    "# Test & display results\n",
    "print(\"Test and display results\")\n",
    "for i in range(len(labels_list)):\n",
    "    classif = classif_list[i]\n",
    "    train_score = float('{0:.3f}'.format(classif.score(X_train, y_train[:,i])))\n",
    "    test_score = float('{0:.3f}'.format(classif.score(X_test, y_test[:,i])))\n",
    "    train_score_list.append(train_score)\n",
    "    test_score_list.append(test_score)\n",
    "    print('Detecting {} with {}% accuracy (training {}%)'.format(labels_list[i], 100*test_score, 100*train_score))\n",
    "\n",
    "predict_train = np.zeros_like(y_train)\n",
    "predict_test = np.zeros_like(y_test)\n",
    "for i in range(len(labels_list)):\n",
    "    classif = classif_list[i]\n",
    "    predict_train[:,i] = classif.predict(X_train)\n",
    "    predict_test[:,i] = classif.predict(X_test)\n",
    "acc_train = 1 - np.sum(np.abs(predict_train - y_train))/(y_train.shape[0]*y_train.shape[1])\n",
    "acc_test = 1 - np.sum(np.abs(predict_test - y_test))/(y_test.shape[0]*y_test.shape[1])\n",
    "print('###')\n",
    "print('Global accuracy: testing {}, training {}'.format(acc_test, acc_train))\n",
    "\n",
    "well_labeled = 0\n",
    "for i in range(len(y_train)):\n",
    "    if np.sum(np.abs(y_train[i,:] - predict_train[i,:])) == 0:\n",
    "        well_labeled +=1\n",
    "print('Overall {} out of the {} training samples were well labeled'.format(well_labeled,len(y_train)))\n",
    "\n",
    "well_labeled = 0\n",
    "for i in range(len(y_test)):\n",
    "    if np.sum(np.abs(y_test[i,:] - predict_test[i,:])) == 0:\n",
    "        well_labeled +=1\n",
    "print('Overall {} out of the {} testing samples were well labeled'.format(well_labeled,len(y_test)))\n",
    "\n",
    "# Evidemment, en plus d'être mathématiquement désapprouvée, cette méthode est encombrante:\n",
    "# imaginez avoir à construire un million de classificateurs ! Ce n'est pas du tout extensible à de la classification extrême"
   ]
  },
  {
   "cell_type": "markdown",
   "metadata": {},
   "source": [
    "### Deep Extreme Multi-label Learning by Zhang et al\n",
    "Follwing XML methods in the paper [Deep Extreme Multi-label Learning by Zhang et al](https://arxiv.org/pdf/1704.03718.pdf) and [eXtreme Multilabel Classification Notebook](https://github.com/therhappy/xml-tuto/blob/master/eXtreme%20Multilabel%20Classification%20Notebook%20-%20EN.ipynb). \n",
    "\n",
    "\n",
    "\n",
    "The goal in this section is build an embedded vector of the UB-04, ICD-10, CPT and Modifier labels. This embedded vector will be used to predict the correct label for EHR procedures.\n"
   ]
  },
  {
   "cell_type": "code",
   "execution_count": null,
   "metadata": {},
   "outputs": [],
   "source": []
  },
  {
   "cell_type": "code",
   "execution_count": 2,
   "metadata": {},
   "outputs": [],
   "source": [
    "import numpy as np\n",
    "%matplotlib inline"
   ]
  },
  {
   "cell_type": "code",
   "execution_count": 99,
   "metadata": {},
   "outputs": [],
   "source": [
    "import hickle as hkl\n",
    "y_train = hkl.load( 'y_train.hkl' )\n",
    "labels_list = hkl.load('labels_list.hkl' )"
   ]
  },
  {
   "cell_type": "code",
   "execution_count": 100,
   "metadata": {},
   "outputs": [
    {
     "data": {
      "text/plain": [
       "['10022', '10060', '10120', '10160', '10180']"
      ]
     },
     "execution_count": 100,
     "metadata": {},
     "output_type": "execute_result"
    }
   ],
   "source": [
    "labels_list[0:5]"
   ]
  },
  {
   "cell_type": "code",
   "execution_count": 101,
   "metadata": {},
   "outputs": [
    {
     "data": {
      "text/plain": [
       "array([[0, 0, 0, ..., 0, 0, 0],\n",
       "       [0, 0, 0, ..., 0, 0, 0],\n",
       "       [0, 0, 0, ..., 0, 0, 0],\n",
       "       [0, 0, 0, ..., 0, 0, 0],\n",
       "       [0, 0, 0, ..., 0, 0, 0]])"
      ]
     },
     "execution_count": 101,
     "metadata": {},
     "output_type": "execute_result"
    }
   ],
   "source": [
    "y_train[0:5]"
   ]
  },
  {
   "cell_type": "code",
   "execution_count": 102,
   "metadata": {},
   "outputs": [
    {
     "name": "stdout",
     "output_type": "stream",
     "text": [
      "lables names:  8630\n"
     ]
    }
   ],
   "source": [
    "print(\"lables names: \", len(labels_list))"
   ]
  },
  {
   "cell_type": "code",
   "execution_count": 103,
   "metadata": {},
   "outputs": [
    {
     "name": "stdout",
     "output_type": "stream",
     "text": [
      "67000\n",
      "8630\n"
     ]
    }
   ],
   "source": [
    "#y_train = y_train[0:1000]\n",
    "print(y_train.shape[0])\n",
    "print(y_train.shape[1])"
   ]
  },
  {
   "cell_type": "code",
   "execution_count": 104,
   "metadata": {},
   "outputs": [
    {
     "name": "stdout",
     "output_type": "stream",
     "text": [
      "67000\n",
      "8630\n"
     ]
    }
   ],
   "source": [
    "edges = []\n",
    "matrix = np.zeros((y_train.shape[0],y_train.shape[1]))\n",
    "print(matrix.shape[0])\n",
    "print(matrix.shape[1])"
   ]
  },
  {
   "cell_type": "code",
   "execution_count": 105,
   "metadata": {},
   "outputs": [
    {
     "name": "stdout",
     "output_type": "stream",
     "text": [
      "Wall time: 16.6 s\n"
     ]
    }
   ],
   "source": [
    "%%time\n",
    "for row in y_train:\n",
    "    act = list(np.where(row == 1))\n",
    "    act = [list(i) for i in act ][0]\n",
    "    for i in range(len(act)):\n",
    "        for j in range(len(act)):\n",
    "            matrix[i,act[j]] +=1\n",
    "            \n",
    "            #if ([act[i],act[j]] not in edges) and ([act[j],act[i]] not in edges): #and not i==j:\n",
    "            #if [act[j],act[i]] not in edges and not i==j:\n",
    "            #if not i==j and i <:\n",
    "            if i < j:\n",
    "                edges.append([act[i],act[j]])\n",
    "        "
   ]
  },
  {
   "cell_type": "code",
   "execution_count": 106,
   "metadata": {},
   "outputs": [
    {
     "data": {
      "text/plain": [
       "1692.0"
      ]
     },
     "execution_count": 106,
     "metadata": {},
     "output_type": "execute_result"
    }
   ],
   "source": [
    "matrix[0][1914]"
   ]
  },
  {
   "cell_type": "code",
   "execution_count": 107,
   "metadata": {},
   "outputs": [
    {
     "data": {
      "text/plain": [
       "array([[  1.,  10.,   1., ..., 267., 613.,  47.],\n",
       "       [  1.,  10.,   1., ..., 267., 613.,  47.],\n",
       "       [  1.,  10.,   1., ..., 267., 613.,  47.],\n",
       "       ...,\n",
       "       [  0.,   0.,   0., ...,   0.,   0.,   0.],\n",
       "       [  0.,   0.,   0., ...,   0.,   0.,   0.],\n",
       "       [  0.,   0.,   0., ...,   0.,   0.,   0.]])"
      ]
     },
     "execution_count": 107,
     "metadata": {},
     "output_type": "execute_result"
    }
   ],
   "source": [
    "matrix"
   ]
  },
  {
   "cell_type": "code",
   "execution_count": 108,
   "metadata": {},
   "outputs": [
    {
     "data": {
      "text/plain": [
       "3612991"
      ]
     },
     "execution_count": 108,
     "metadata": {},
     "output_type": "execute_result"
    }
   ],
   "source": [
    "len(edges)"
   ]
  },
  {
   "cell_type": "code",
   "execution_count": 109,
   "metadata": {},
   "outputs": [],
   "source": [
    "edges2 = [[x,y] for x,y in (set(tuple(x) for x in edges))]"
   ]
  },
  {
   "cell_type": "code",
   "execution_count": 110,
   "metadata": {},
   "outputs": [
    {
     "data": {
      "text/plain": [
       "[[292, 8167], [2538, 2974], [959, 3912], [1559, 1957], [3897, 4036]]"
      ]
     },
     "execution_count": 110,
     "metadata": {},
     "output_type": "execute_result"
    }
   ],
   "source": [
    "edges2[:5]"
   ]
  },
  {
   "cell_type": "code",
   "execution_count": 111,
   "metadata": {},
   "outputs": [],
   "source": [
    "label_dict = {}\n",
    "for i in range(len(labels_list)):\n",
    "    label_dict[i] = labels_list[i]"
   ]
  },
  {
   "cell_type": "code",
   "execution_count": 95,
   "metadata": {},
   "outputs": [
    {
     "data": {
      "text/plain": [
       "'\\nfor i in range(len(edges2)):\\n    val1 = edges2[i][0]\\n    val2 = edges2[i][1]\\n    edges2[i][0] = label_dict[val1]\\n    edges2[i][1] = label_dict[val2]\\n'"
      ]
     },
     "execution_count": 95,
     "metadata": {},
     "output_type": "execute_result"
    }
   ],
   "source": [
    "'''\n",
    "for i in range(len(edges2)):\n",
    "    val1 = edges2[i][0]\n",
    "    val2 = edges2[i][1]\n",
    "    edges2[i][0] = label_dict[val1]\n",
    "    edges2[i][1] = label_dict[val2]\n",
    "'''"
   ]
  },
  {
   "cell_type": "code",
   "execution_count": 112,
   "metadata": {},
   "outputs": [
    {
     "data": {
      "text/plain": [
       "[[292, 8167],\n",
       " [2538, 2974],\n",
       " [959, 3912],\n",
       " [1559, 1957],\n",
       " [3897, 4036],\n",
       " [328, 8279],\n",
       " [6208, 6330],\n",
       " [1978, 7968],\n",
       " [3462, 6113],\n",
       " [1568, 3416]]"
      ]
     },
     "execution_count": 112,
     "metadata": {},
     "output_type": "execute_result"
    }
   ],
   "source": [
    "edges2[0:10]"
   ]
  },
  {
   "cell_type": "code",
   "execution_count": 53,
   "metadata": {},
   "outputs": [],
   "source": [
    "from sklearn.preprocessing import normalize\n",
    "norm_matrix = normalize(matrix, axis=1, norm='l1')"
   ]
  },
  {
   "cell_type": "code",
   "execution_count": 113,
   "metadata": {},
   "outputs": [],
   "source": [
    "G=nx.Graph()\n",
    "for edge in edges2:\n",
    "        G.add_edge(edge[0], edge[1])"
   ]
  },
  {
   "cell_type": "code",
   "execution_count": 54,
   "metadata": {},
   "outputs": [
    {
     "data": {
      "text/plain": [
       "array([[1.93574488e-06, 1.93574488e-05, 1.93574488e-06, ...,\n",
       "        5.16843884e-04, 1.18661161e-03, 9.09800096e-05],\n",
       "       [1.93913445e-06, 1.93913445e-05, 1.93913445e-06, ...,\n",
       "        5.17748898e-04, 1.18868942e-03, 9.11393191e-05],\n",
       "       [2.07942575e-06, 2.07942575e-05, 2.07942575e-06, ...,\n",
       "        5.55206674e-04, 1.27468798e-03, 9.77330101e-05],\n",
       "       ...,\n",
       "       [0.00000000e+00, 0.00000000e+00, 0.00000000e+00, ...,\n",
       "        0.00000000e+00, 0.00000000e+00, 0.00000000e+00],\n",
       "       [0.00000000e+00, 0.00000000e+00, 0.00000000e+00, ...,\n",
       "        0.00000000e+00, 0.00000000e+00, 0.00000000e+00],\n",
       "       [0.00000000e+00, 0.00000000e+00, 0.00000000e+00, ...,\n",
       "        0.00000000e+00, 0.00000000e+00, 0.00000000e+00]])"
      ]
     },
     "execution_count": 54,
     "metadata": {},
     "output_type": "execute_result"
    }
   ],
   "source": [
    "norm_matrix"
   ]
  },
  {
   "cell_type": "code",
   "execution_count": 40,
   "metadata": {},
   "outputs": [],
   "source": [
    "import networkx as nx #For those among you that use Anaconda dist, you already got this\n",
    "\n",
    "def draw_graph(edges, weights_matrix=None, threshold=0, figsize=(20,20)):\n",
    "    \n",
    "    '''\n",
    "    edges : liste des connected labels\n",
    "    weights_matrix : labels proximity matrix\n",
    "    threshold : number of occurence required to draw a connection\n",
    "    figsize : size of the graph to display\n",
    "    '''\n",
    "    \n",
    "    edges = [edge for edge in edges if weights_matrix[edge[0],edge[1]] > threshold]\n",
    "    \n",
    "    # additional settings (you can mess around here)\n",
    "    node_size = 1600\n",
    "    node_color = 'blue'\n",
    "    node_alpha = 0.2\n",
    "    node_text_size = 12\n",
    "    edge_color = 'blue'\n",
    "    edge_alpha= 0.3\n",
    "    edge_tickness = 1\n",
    "    edge_text_pos = 0.3\n",
    "    text_font = 'sans-serif'\n",
    "\n",
    "    plt.figure(figsize=figsize)\n",
    "    # create networkx graph\n",
    "    G=nx.Graph()\n",
    "\n",
    "    # add edges\n",
    "    for edge in edges:\n",
    "        G.add_edge(edge[0], edge[1])\n",
    "\n",
    "    # select shell autolocation\n",
    "    graph_pos=nx.shell_layout(G)\n",
    "\n",
    "    # draw graph\n",
    "    nx.draw_networkx_nodes(G,\n",
    "                           graph_pos,\n",
    "                           node_size=node_size, \n",
    "                           alpha=node_alpha,\n",
    "                           node_color=node_color)\n",
    "    nx.draw_networkx_edges(G, graph_pos,width=edge_tickness, alpha=edge_alpha,edge_color=edge_color)\n",
    "    nx.draw_networkx_labels(G, graph_pos,font_size=node_text_size, font_family=text_font)\n",
    "    \n",
    "    # construct weights dict\n",
    "    weights={}\n",
    "    for i in range(len(edges)):\n",
    "        weights[tuple(edges[i])] = weights_matrix.astype(int)[edges[i][0],edges[i][1]]\n",
    "    \n",
    "    # draw weights\n",
    "    edge_labels = weights\n",
    "    nx.draw_networkx_edge_labels(G, graph_pos, edge_labels=edge_labels, \n",
    "                                 label_pos=edge_text_pos)\n",
    "\n",
    "    # show graph\n",
    "    plt.title('Proximity graph between labels with a proximity threshold at {} occurences'.format(threshold))\n",
    "    plt.show()"
   ]
  },
  {
   "cell_type": "code",
   "execution_count": null,
   "metadata": {},
   "outputs": [],
   "source": [
    "import networkx as nx\n",
    "num_nodes = norm_matrix.shape[0] + norm_matrix.shape[1]\n",
    "rows, cols = np.where(norm_matrix == 1)\n",
    "edges = list(zip(rows.tolist(), (cols + norm_matrix.shape[0]).tolist()))\n",
    "print(\"X:\", norm_matrix)\n",
    "print(\"U nodes:\", np.arange(norm_matrix.shape[0]))\n",
    "print(\"V nodes:\", np.arange(norm_matrix.shape[1]) + norm_matrix.shape[0])\n",
    "print(\"edges\")\n",
    "print(edges[0:50])"
   ]
  },
  {
   "cell_type": "code",
   "execution_count": null,
   "metadata": {},
   "outputs": [],
   "source": []
  },
  {
   "cell_type": "code",
   "execution_count": null,
   "metadata": {},
   "outputs": [],
   "source": [
    "graph = nx.draw_networkx(b, pos=pos, node_color=(['c'] * norm_matrix.shape[0]) + (['y'] * norm_matrix.shape[1]))"
   ]
  },
  {
   "cell_type": "code",
   "execution_count": null,
   "metadata": {},
   "outputs": [],
   "source": [
    "#adjacency list\n",
    "#nx.write_edgelist(b, \"test.edgelist.txt\", delimiter='\\t', data = False)"
   ]
  },
  {
   "cell_type": "code",
   "execution_count": 114,
   "metadata": {},
   "outputs": [],
   "source": [
    "# save as edge list file\n",
    "with open('./test.edgelist', 'w') as f:\n",
    "    for edge in G.edges():\n",
    "        f.write(\"{} {}\\n\".format(edge[0] ,edge[1]))"
   ]
  },
  {
   "cell_type": "code",
   "execution_count": null,
   "metadata": {},
   "outputs": [],
   "source": [
    "nx.write_gexf(b, \"test.gexf\")"
   ]
  },
  {
   "cell_type": "markdown",
   "metadata": {},
   "source": [
    "### Analyze the graph in GraphCrunch 2\n",
    "+ [GraphCrunch 2](http://www0.cs.ucl.ac.uk/staff/natasa/graphcrunch2/index.html)\n",
    "+ [Paper](https://bmcbioinformatics.biomedcentral.com/articles/10.1186/1471-2105-12-24)"
   ]
  },
  {
   "cell_type": "markdown",
   "metadata": {},
   "source": [
    "### Choose How to Convert to Vec\n",
    "There are four methods to convert a network graph each node into a network as a low-dimensional feature vector.\n",
    "\n",
    "1. [Deepwalk](https://github.com/phanein/deepwalk)\n",
    "2. [Node2Vec](https://snap.stanford.edu/node2vec/)\n",
    "3. [Struct2Vec](https://github.com/leoribeiro/struc2vec)\n",
    "4. Graphlets\n",
    "\n",
    "Due a paper from Shawn Gu and Tijana Milenković called [*Graphlets versus node2vec and struc2vec in the task of network alignment*](https://www.groundai.com/project/graphlets-versus-node2vec-and-struc2vec-in-the-task-of-network-alignment/), in certain situations a graphlet could outperform Node2Vec or Struct2Vec to quantify node similarities.\n",
    "\n",
    "In this section two embedded graphs will be made. One, using Node2Vec and the second using Graphlets. "
   ]
  },
  {
   "cell_type": "markdown",
   "metadata": {},
   "source": [
    "*Note* :To use Node2Vec, you must use a Python 2.7 environment at the time of writing this"
   ]
  },
  {
   "cell_type": "markdown",
   "metadata": {},
   "source": [
    "### Node2Vec\n",
    "To run NodeVec, you first must download the repository and run the line below"
   ]
  },
  {
   "cell_type": "code",
   "execution_count": null,
   "metadata": {},
   "outputs": [],
   "source": [
    "python src/main.py --input graph/test.edgelist --output emb/test.emd"
   ]
  },
  {
   "cell_type": "code",
   "execution_count": null,
   "metadata": {},
   "outputs": [],
   "source": []
  }
 ],
 "metadata": {
  "kernelspec": {
   "display_name": "Python 3",
   "language": "python",
   "name": "python3"
  },
  "language_info": {
   "codemirror_mode": {
    "name": "ipython",
    "version": 3
   },
   "file_extension": ".py",
   "mimetype": "text/x-python",
   "name": "python",
   "nbconvert_exporter": "python",
   "pygments_lexer": "ipython3",
   "version": "3.6.6"
  }
 },
 "nbformat": 4,
 "nbformat_minor": 2
}
